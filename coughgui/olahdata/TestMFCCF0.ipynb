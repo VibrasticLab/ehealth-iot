{
 "cells": [
  {
   "cell_type": "markdown",
   "id": "50456579-fe55-4173-ae42-779c3c23fef8",
   "metadata": {},
   "source": [
    "# MFCC-F0 Example"
   ]
  },
  {
   "cell_type": "markdown",
   "id": "8c1b043e-4498-4485-919c-be99550ca20a",
   "metadata": {},
   "source": [
    "## module importing"
   ]
  },
  {
   "cell_type": "code",
   "execution_count": 1,
   "id": "92bef596-9209-4c65-b632-41501326f2ad",
   "metadata": {},
   "outputs": [],
   "source": [
    "import glob\n",
    "import os.path as path\n",
    "import librosa as rosa\n",
    "import librosa.feature as feat\n",
    "from scipy.io.wavfile import read"
   ]
  },
  {
   "cell_type": "markdown",
   "id": "4dd92805-abb1-452c-ba31-3ebe145a9180",
   "metadata": {},
   "source": [
    "## folder path"
   ]
  },
  {
   "cell_type": "code",
   "execution_count": 2,
   "id": "fca0c9c7-cfc1-451e-9e45-448671efb365",
   "metadata": {},
   "outputs": [],
   "source": [
    "probo = 'normal/probo_07102023/'\n",
    "lab = 'normal/lab_062023/'"
   ]
  },
  {
   "cell_type": "markdown",
   "id": "84170ff7-9e49-4323-81e7-e2e6d103b7dd",
   "metadata": {},
   "source": [
    "## extract loop function"
   ]
  },
  {
   "cell_type": "code",
   "execution_count": 3,
   "id": "23f4ca6c-e540-4e6d-ba0e-03b2d74ab1ba",
   "metadata": {},
   "outputs": [],
   "source": [
    "def ekstrak(folderpath):\n",
    "    dirpath = folderpath + '*.wav'\n",
    "    for wav in glob.glob(dirpath, recursive=False):\n",
    "        audio = read(wav)\n",
    "        mfcc = feat.mfcc(audio)\n",
    "        f0 = rosa.pyin(audio,fmin=rosa.note_to_hz('C2'),fmax=rosa.note_to_hz('C7'))\n",
    "        print(path.basename(wav))"
   ]
  },
  {
   "cell_type": "markdown",
   "id": "bb3a33f3-1ae9-47fe-a420-c9dec0c2012a",
   "metadata": {},
   "source": [
    "## data probolinggo"
   ]
  },
  {
   "cell_type": "code",
   "execution_count": 4,
   "id": "d06c99e4-c67d-4382-9985-cc9bc53834e3",
   "metadata": {},
   "outputs": [
    {
     "ename": "TypeError",
     "evalue": "mfcc() takes 0 positional arguments but 1 was given",
     "output_type": "error",
     "traceback": [
      "\u001b[0;31m---------------------------------------------------------------------------\u001b[0m",
      "\u001b[0;31mTypeError\u001b[0m                                 Traceback (most recent call last)",
      "Cell \u001b[0;32mIn[4], line 1\u001b[0m\n\u001b[0;32m----> 1\u001b[0m \u001b[43mekstrak\u001b[49m\u001b[43m(\u001b[49m\u001b[43mprobo\u001b[49m\u001b[43m)\u001b[49m\n",
      "Cell \u001b[0;32mIn[3], line 5\u001b[0m, in \u001b[0;36mekstrak\u001b[0;34m(folderpath)\u001b[0m\n\u001b[1;32m      3\u001b[0m \u001b[38;5;28;01mfor\u001b[39;00m wav \u001b[38;5;129;01min\u001b[39;00m glob\u001b[38;5;241m.\u001b[39mglob(dirpath, recursive\u001b[38;5;241m=\u001b[39m\u001b[38;5;28;01mFalse\u001b[39;00m):\n\u001b[1;32m      4\u001b[0m     audio \u001b[38;5;241m=\u001b[39m read(wav)\n\u001b[0;32m----> 5\u001b[0m     mfcc \u001b[38;5;241m=\u001b[39m \u001b[43mfeat\u001b[49m\u001b[38;5;241;43m.\u001b[39;49m\u001b[43mmfcc\u001b[49m\u001b[43m(\u001b[49m\u001b[43maudio\u001b[49m\u001b[43m)\u001b[49m\n\u001b[1;32m      6\u001b[0m     f0 \u001b[38;5;241m=\u001b[39m rosa\u001b[38;5;241m.\u001b[39mpyin(audio,fmin\u001b[38;5;241m=\u001b[39mrosa\u001b[38;5;241m.\u001b[39mnote_to_hz(\u001b[38;5;124m'\u001b[39m\u001b[38;5;124mC2\u001b[39m\u001b[38;5;124m'\u001b[39m),fmax\u001b[38;5;241m=\u001b[39mrosa\u001b[38;5;241m.\u001b[39mnote_to_hz(\u001b[38;5;124m'\u001b[39m\u001b[38;5;124mC7\u001b[39m\u001b[38;5;124m'\u001b[39m))\n\u001b[1;32m      7\u001b[0m     \u001b[38;5;28mprint\u001b[39m(path\u001b[38;5;241m.\u001b[39mbasename(wav))\n",
      "\u001b[0;31mTypeError\u001b[0m: mfcc() takes 0 positional arguments but 1 was given"
     ]
    }
   ],
   "source": [
    "ekstrak(probo)"
   ]
  },
  {
   "cell_type": "markdown",
   "id": "fd47e4d6-99ad-42e2-8e2b-deb9affc5777",
   "metadata": {},
   "source": [
    "## data lab"
   ]
  },
  {
   "cell_type": "code",
   "execution_count": 5,
   "id": "e9937fd4-93e1-4060-96f5-98552e011e69",
   "metadata": {},
   "outputs": [
    {
     "ename": "TypeError",
     "evalue": "mfcc() takes 0 positional arguments but 1 was given",
     "output_type": "error",
     "traceback": [
      "\u001b[0;31m---------------------------------------------------------------------------\u001b[0m",
      "\u001b[0;31mTypeError\u001b[0m                                 Traceback (most recent call last)",
      "Cell \u001b[0;32mIn[5], line 1\u001b[0m\n\u001b[0;32m----> 1\u001b[0m \u001b[43mekstrak\u001b[49m\u001b[43m(\u001b[49m\u001b[43mlab\u001b[49m\u001b[43m)\u001b[49m\n",
      "Cell \u001b[0;32mIn[3], line 5\u001b[0m, in \u001b[0;36mekstrak\u001b[0;34m(folderpath)\u001b[0m\n\u001b[1;32m      3\u001b[0m \u001b[38;5;28;01mfor\u001b[39;00m wav \u001b[38;5;129;01min\u001b[39;00m glob\u001b[38;5;241m.\u001b[39mglob(dirpath, recursive\u001b[38;5;241m=\u001b[39m\u001b[38;5;28;01mFalse\u001b[39;00m):\n\u001b[1;32m      4\u001b[0m     audio \u001b[38;5;241m=\u001b[39m read(wav)\n\u001b[0;32m----> 5\u001b[0m     mfcc \u001b[38;5;241m=\u001b[39m \u001b[43mfeat\u001b[49m\u001b[38;5;241;43m.\u001b[39;49m\u001b[43mmfcc\u001b[49m\u001b[43m(\u001b[49m\u001b[43maudio\u001b[49m\u001b[43m)\u001b[49m\n\u001b[1;32m      6\u001b[0m     f0 \u001b[38;5;241m=\u001b[39m rosa\u001b[38;5;241m.\u001b[39mpyin(audio,fmin\u001b[38;5;241m=\u001b[39mrosa\u001b[38;5;241m.\u001b[39mnote_to_hz(\u001b[38;5;124m'\u001b[39m\u001b[38;5;124mC2\u001b[39m\u001b[38;5;124m'\u001b[39m),fmax\u001b[38;5;241m=\u001b[39mrosa\u001b[38;5;241m.\u001b[39mnote_to_hz(\u001b[38;5;124m'\u001b[39m\u001b[38;5;124mC7\u001b[39m\u001b[38;5;124m'\u001b[39m))\n\u001b[1;32m      7\u001b[0m     \u001b[38;5;28mprint\u001b[39m(path\u001b[38;5;241m.\u001b[39mbasename(wav))\n",
      "\u001b[0;31mTypeError\u001b[0m: mfcc() takes 0 positional arguments but 1 was given"
     ]
    }
   ],
   "source": [
    "ekstrak(lab)"
   ]
  },
  {
   "cell_type": "code",
   "execution_count": null,
   "id": "32b1ec0d-5c15-49c0-9d88-c9d9f2a6e79c",
   "metadata": {},
   "outputs": [],
   "source": []
  }
 ],
 "metadata": {
  "kernelspec": {
   "display_name": "Python 3 (ipykernel)",
   "language": "python",
   "name": "python3"
  },
  "language_info": {
   "codemirror_mode": {
    "name": "ipython",
    "version": 3
   },
   "file_extension": ".py",
   "mimetype": "text/x-python",
   "name": "python",
   "nbconvert_exporter": "python",
   "pygments_lexer": "ipython3",
   "version": "3.11.5"
  }
 },
 "nbformat": 4,
 "nbformat_minor": 5
}
